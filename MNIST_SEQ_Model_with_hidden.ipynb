{
 "cells": [
  {
   "cell_type": "code",
   "execution_count": 1,
   "metadata": {},
   "outputs": [
    {
     "name": "stderr",
     "output_type": "stream",
     "text": [
      "Using TensorFlow backend.\n"
     ]
    }
   ],
   "source": [
    "from __future__ import print_function\n",
    "import numpy as np\n",
    "from keras.datasets import mnist\n",
    "from keras.models import Sequential\n",
    "from keras.layers.core import Dense, Activation\n",
    "from keras.optimizers import SGD\n",
    "from keras.utils import np_utils\n",
    "\n"
   ]
  },
  {
   "cell_type": "code",
   "execution_count": 12,
   "metadata": {
    "collapsed": true
   },
   "outputs": [],
   "source": [
    "\n",
    "np.random.seed(1671)  # for reproducibility\n",
    "\n",
    "# network and training\n",
    "NB_EPOCH = 20\n",
    "BATCH_SIZE = 128\n",
    "VERBOSE = 1\n",
    "NB_CLASSES = 10   # number of outputs = number of digits\n",
    "OPTIMIZER = SGD() # SGD optimizer, explained later in this chapter\n",
    "N_HIDDEN = 128\n",
    "VALIDATION_SPLIT=0.2 # how much TRAIN is reserved for VALIDATION\n",
    "\n"
   ]
  },
  {
   "cell_type": "markdown",
   "metadata": {},
   "source": [
    "# Downloading online data ( images matrix )"
   ]
  },
  {
   "cell_type": "code",
   "execution_count": 3,
   "metadata": {
    "collapsed": true
   },
   "outputs": [],
   "source": [
    "# data: shuffled and split between train and test sets\n",
    "#\n",
    "(X_train, y_train), (X_test, y_test) = mnist.load_data()\n",
    "\n"
   ]
  },
  {
   "cell_type": "code",
   "execution_count": 4,
   "metadata": {},
   "outputs": [
    {
     "data": {
      "text/plain": [
       "(60000, 28, 28)"
      ]
     },
     "execution_count": 4,
     "metadata": {},
     "output_type": "execute_result"
    }
   ],
   "source": [
    "X_train.shape"
   ]
  },
  {
   "cell_type": "code",
   "execution_count": 5,
   "metadata": {
    "collapsed": true
   },
   "outputs": [],
   "source": [
    "#X_train is 60000 rows of 28x28 values --> reshaped in 60000 x 784\n",
    "RESHAPED = 784\n",
    "#\n",
    "X_train = X_train.reshape(60000, RESHAPED)\n",
    "X_test = X_test.reshape(10000, RESHAPED)\n",
    "X_train = X_train.astype('float32')\n",
    "X_test = X_test.astype('float32')\n",
    "\n"
   ]
  },
  {
   "cell_type": "code",
   "execution_count": 6,
   "metadata": {},
   "outputs": [
    {
     "name": "stdout",
     "output_type": "stream",
     "text": [
      "60000 train samples\n",
      "10000 test samples\n"
     ]
    }
   ],
   "source": [
    "\n",
    "# normalize \n",
    "#\n",
    "X_train /= 255\n",
    "X_test /= 255\n",
    "print(X_train.shape[0], 'train samples')\n",
    "print(X_test.shape[0], 'test samples')\n",
    "\n"
   ]
  },
  {
   "cell_type": "code",
   "execution_count": 7,
   "metadata": {},
   "outputs": [
    {
     "name": "stdout",
     "output_type": "stream",
     "text": [
      "[5 0 4 ... 5 6 8]\n"
     ]
    }
   ],
   "source": [
    "print(y_train)"
   ]
  },
  {
   "cell_type": "markdown",
   "metadata": {},
   "source": [
    "# ONE HOT ENCODING"
   ]
  },
  {
   "cell_type": "code",
   "execution_count": 8,
   "metadata": {
    "collapsed": true
   },
   "outputs": [],
   "source": [
    "# convert class vectors to binary class matrices\n",
    "Y_train = np_utils.to_categorical(y_train, NB_CLASSES)\n",
    "Y_test = np_utils.to_categorical(y_test, NB_CLASSES)\n",
    "\n"
   ]
  },
  {
   "cell_type": "code",
   "execution_count": 9,
   "metadata": {},
   "outputs": [
    {
     "name": "stdout",
     "output_type": "stream",
     "text": [
      "[[0. 0. 0. ... 0. 0. 0.]\n",
      " [1. 0. 0. ... 0. 0. 0.]\n",
      " [0. 0. 0. ... 0. 0. 0.]\n",
      " ...\n",
      " [0. 0. 0. ... 0. 0. 0.]\n",
      " [0. 0. 0. ... 0. 0. 0.]\n",
      " [0. 0. 0. ... 0. 1. 0.]]\n"
     ]
    }
   ],
   "source": [
    "print(Y_train)"
   ]
  },
  {
   "cell_type": "markdown",
   "metadata": {},
   "source": [
    "# DEFINING MODEL"
   ]
  },
  {
   "cell_type": "code",
   "execution_count": 15,
   "metadata": {},
   "outputs": [
    {
     "name": "stdout",
     "output_type": "stream",
     "text": [
      "_________________________________________________________________\n",
      "Layer (type)                 Output Shape              Param #   \n",
      "=================================================================\n",
      "dense_4 (Dense)              (None, 128)               100480    \n",
      "_________________________________________________________________\n",
      "activation_4 (Activation)    (None, 128)               0         \n",
      "_________________________________________________________________\n",
      "dense_5 (Dense)              (None, 10)                1290      \n",
      "_________________________________________________________________\n",
      "activation_5 (Activation)    (None, 10)                0         \n",
      "=================================================================\n",
      "Total params: 101,770\n",
      "Trainable params: 101,770\n",
      "Non-trainable params: 0\n",
      "_________________________________________________________________\n"
     ]
    }
   ],
   "source": [
    "# 10 outputs\n",
    "# final stage is softmax\n",
    "\n",
    "model = Sequential()\n",
    "\n",
    "# Add an input layer \n",
    "model.add(Dense(N_HIDDEN, input_shape=(RESHAPED,)))\n",
    "model.add(Activation('relu'))\n",
    "\n",
    "#model.add(Dense(N_HIDDEN))\n",
    "#model.add(Activation('relu'))\n",
    "\n",
    "# Output layer\n",
    "model.add(Dense(NB_CLASSES))\n",
    "model.add(Activation('softmax'))\n",
    "\n",
    "model.summary()\n"
   ]
  },
  {
   "cell_type": "code",
   "execution_count": 19,
   "metadata": {
    "collapsed": true
   },
   "outputs": [],
   "source": [
    "model.compile(loss='categorical_crossentropy',\n",
    "              optimizer=OPTIMIZER,\n",
    "              metrics=['categorical_accuracy'])\n",
    "\n"
   ]
  },
  {
   "cell_type": "markdown",
   "metadata": {},
   "source": [
    "# TRAINING MODEL"
   ]
  },
  {
   "cell_type": "code",
   "execution_count": 20,
   "metadata": {},
   "outputs": [
    {
     "name": "stdout",
     "output_type": "stream",
     "text": [
      "Train on 48000 samples, validate on 12000 samples\n",
      "Epoch 1/20\n",
      "48000/48000 [==============================] - 2s 49us/step - loss: 0.2408 - categorical_accuracy: 0.9323 - val_loss: 0.2316 - val_categorical_accuracy: 0.9347\n",
      "Epoch 2/20\n",
      "48000/48000 [==============================] - 1s 31us/step - loss: 0.2363 - categorical_accuracy: 0.9336 - val_loss: 0.2280 - val_categorical_accuracy: 0.9366\n",
      "Epoch 3/20\n",
      "48000/48000 [==============================] - 1s 30us/step - loss: 0.2320 - categorical_accuracy: 0.9349 - val_loss: 0.2246 - val_categorical_accuracy: 0.9375\n",
      "Epoch 4/20\n",
      "48000/48000 [==============================] - 1s 31us/step - loss: 0.2279 - categorical_accuracy: 0.9362 - val_loss: 0.2211 - val_categorical_accuracy: 0.9393\n",
      "Epoch 5/20\n",
      "48000/48000 [==============================] - 1s 30us/step - loss: 0.2240 - categorical_accuracy: 0.9372 - val_loss: 0.2177 - val_categorical_accuracy: 0.9396\n",
      "Epoch 6/20\n",
      "48000/48000 [==============================] - 1s 31us/step - loss: 0.2202 - categorical_accuracy: 0.9381 - val_loss: 0.2147 - val_categorical_accuracy: 0.9412\n",
      "Epoch 7/20\n",
      "48000/48000 [==============================] - 1s 31us/step - loss: 0.2166 - categorical_accuracy: 0.9394 - val_loss: 0.2117 - val_categorical_accuracy: 0.9414\n",
      "Epoch 8/20\n",
      "48000/48000 [==============================] - 1s 30us/step - loss: 0.2131 - categorical_accuracy: 0.9401 - val_loss: 0.2088 - val_categorical_accuracy: 0.9429\n",
      "Epoch 9/20\n",
      "48000/48000 [==============================] - 1s 30us/step - loss: 0.2095 - categorical_accuracy: 0.9418 - val_loss: 0.2065 - val_categorical_accuracy: 0.9437\n",
      "Epoch 10/20\n",
      "48000/48000 [==============================] - 1s 31us/step - loss: 0.2064 - categorical_accuracy: 0.9419 - val_loss: 0.2035 - val_categorical_accuracy: 0.9441\n",
      "Epoch 11/20\n",
      "48000/48000 [==============================] - 1s 31us/step - loss: 0.2033 - categorical_accuracy: 0.9432 - val_loss: 0.2008 - val_categorical_accuracy: 0.9453\n",
      "Epoch 12/20\n",
      "48000/48000 [==============================] - 1s 31us/step - loss: 0.2002 - categorical_accuracy: 0.9442 - val_loss: 0.1981 - val_categorical_accuracy: 0.9456\n",
      "Epoch 13/20\n",
      "48000/48000 [==============================] - 1s 31us/step - loss: 0.1973 - categorical_accuracy: 0.9449 - val_loss: 0.1957 - val_categorical_accuracy: 0.9471\n",
      "Epoch 14/20\n",
      "48000/48000 [==============================] - 1s 31us/step - loss: 0.1944 - categorical_accuracy: 0.9455 - val_loss: 0.1936 - val_categorical_accuracy: 0.9469\n",
      "Epoch 15/20\n",
      "48000/48000 [==============================] - 1s 31us/step - loss: 0.1916 - categorical_accuracy: 0.9466 - val_loss: 0.1915 - val_categorical_accuracy: 0.9477\n",
      "Epoch 16/20\n",
      "48000/48000 [==============================] - 1s 31us/step - loss: 0.1889 - categorical_accuracy: 0.9472 - val_loss: 0.1889 - val_categorical_accuracy: 0.9491\n",
      "Epoch 17/20\n",
      "48000/48000 [==============================] - 2s 34us/step - loss: 0.1864 - categorical_accuracy: 0.9481 - val_loss: 0.1865 - val_categorical_accuracy: 0.9500\n",
      "Epoch 18/20\n",
      "48000/48000 [==============================] - 2s 38us/step - loss: 0.1837 - categorical_accuracy: 0.9490 - val_loss: 0.1847 - val_categorical_accuracy: 0.9497\n",
      "Epoch 19/20\n",
      "48000/48000 [==============================] - 2s 33us/step - loss: 0.1813 - categorical_accuracy: 0.9494 - val_loss: 0.1827 - val_categorical_accuracy: 0.9506\n",
      "Epoch 20/20\n",
      "48000/48000 [==============================] - 2s 32us/step - loss: 0.1789 - categorical_accuracy: 0.9505 - val_loss: 0.1808 - val_categorical_accuracy: 0.9519\n"
     ]
    }
   ],
   "source": [
    "history = model.fit(X_train, Y_train,\n",
    "                    batch_size=BATCH_SIZE, epochs=NB_EPOCH,\n",
    "                    verbose=VERBOSE, validation_split=VALIDATION_SPLIT)\n"
   ]
  },
  {
   "cell_type": "markdown",
   "metadata": {},
   "source": [
    "# Model Performance [ Accuracy ]"
   ]
  },
  {
   "cell_type": "code",
   "execution_count": 21,
   "metadata": {},
   "outputs": [
    {
     "name": "stdout",
     "output_type": "stream",
     "text": [
      "10000/10000 [==============================] - 0s 35us/step\n",
      "Test accuracy: 0.9474\n"
     ]
    }
   ],
   "source": [
    "score = model.evaluate(X_test, Y_test, verbose=VERBOSE)\n",
    "#print(\"\\nTest score:\", score[0])\n",
    "print('Test accuracy:', score[1])"
   ]
  },
  {
   "cell_type": "code",
   "execution_count": null,
   "metadata": {
    "collapsed": true
   },
   "outputs": [],
   "source": []
  }
 ],
 "metadata": {
  "kernelspec": {
   "display_name": "Python 3",
   "language": "python",
   "name": "python3"
  },
  "language_info": {
   "codemirror_mode": {
    "name": "ipython",
    "version": 3
   },
   "file_extension": ".py",
   "mimetype": "text/x-python",
   "name": "python",
   "nbconvert_exporter": "python",
   "pygments_lexer": "ipython3",
   "version": "3.6.8"
  }
 },
 "nbformat": 4,
 "nbformat_minor": 2
}
